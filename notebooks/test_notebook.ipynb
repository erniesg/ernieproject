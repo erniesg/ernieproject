{
 "cells": [
  {
   "cell_type": "code",
   "execution_count": 20,
   "id": "50b8cdee",
   "metadata": {
    "ExecuteTime": {
     "end_time": "2022-08-06T04:09:58.925972Z",
     "start_time": "2022-08-06T04:09:58.922429Z"
    }
   },
   "outputs": [],
   "source": [
    "from ernieproject.lib import try_me"
   ]
  },
  {
   "cell_type": "code",
   "execution_count": 21,
   "id": "a1a04473",
   "metadata": {
    "ExecuteTime": {
     "end_time": "2022-08-06T04:09:59.735319Z",
     "start_time": "2022-08-06T04:09:59.731394Z"
    }
   },
   "outputs": [
    {
     "name": "stdout",
     "output_type": "stream",
     "text": [
      "the sum is 8\n"
     ]
    }
   ],
   "source": [
    "try_me(3,5)"
   ]
  },
  {
   "cell_type": "code",
   "execution_count": 23,
   "id": "1d6ea2b3",
   "metadata": {
    "ExecuteTime": {
     "end_time": "2022-08-06T04:10:02.901983Z",
     "start_time": "2022-08-06T04:10:02.880705Z"
    }
   },
   "outputs": [
    {
     "name": "stdout",
     "output_type": "stream",
     "text": [
      "the sum is 7\n"
     ]
    },
    {
     "ename": "NameError",
     "evalue": "name 'num' is not defined",
     "output_type": "error",
     "traceback": [
      "\u001b[0;31m---------------------------------------------------------------------------\u001b[0m",
      "\u001b[0;31mNameError\u001b[0m                                 Traceback (most recent call last)",
      "Input \u001b[0;32mIn [23]\u001b[0m, in \u001b[0;36m<cell line: 2>\u001b[0;34m()\u001b[0m\n\u001b[1;32m      1\u001b[0m try_me(\u001b[38;5;241m3\u001b[39m,\u001b[38;5;241m4\u001b[39m)\n\u001b[0;32m----> 2\u001b[0m \u001b[38;5;28;01massert\u001b[39;00m \u001b[43mnum\u001b[49m \u001b[38;5;241m==\u001b[39m \u001b[38;5;241m7\u001b[39m\n",
      "\u001b[0;31mNameError\u001b[0m: name 'num' is not defined"
     ]
    }
   ],
   "source": [
    "try_me(3,4)\n",
    "assert num == 7"
   ]
  },
  {
   "cell_type": "code",
   "execution_count": null,
   "id": "c33741b9",
   "metadata": {},
   "outputs": [],
   "source": []
  }
 ],
 "metadata": {
  "kernelspec": {
   "display_name": "Python 3 (ipykernel)",
   "language": "python",
   "name": "python3"
  },
  "language_info": {
   "codemirror_mode": {
    "name": "ipython",
    "version": 3
   },
   "file_extension": ".py",
   "mimetype": "text/x-python",
   "name": "python",
   "nbconvert_exporter": "python",
   "pygments_lexer": "ipython3",
   "version": "3.8.12"
  },
  "toc": {
   "base_numbering": 1,
   "nav_menu": {},
   "number_sections": true,
   "sideBar": true,
   "skip_h1_title": false,
   "title_cell": "Table of Contents",
   "title_sidebar": "Contents",
   "toc_cell": false,
   "toc_position": {},
   "toc_section_display": true,
   "toc_window_display": false
  }
 },
 "nbformat": 4,
 "nbformat_minor": 5
}
